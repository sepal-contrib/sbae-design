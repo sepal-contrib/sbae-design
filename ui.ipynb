{
 "cells": [
  {
   "cell_type": "code",
   "execution_count": null,
   "id": "2125f9b8",
   "metadata": {},
   "outputs": [],
   "source": [
    "# sampling_design_tool/ui.ipynb\n",
    "\n",
    "# Ensure the current working directory is the project root if running from elsewhere,\n",
    "# or that the sampling_design_tool package is in the Python path.\n",
    "import sys\n",
    "import os\n",
    "\n",
    "module_path = os.path.abspath(\n",
    "    os.path.join(\"..\")\n",
    ")  # If ui.ipynb is inside sampling_design_tool\n",
    "if module_path not in sys.path:\n",
    "    sys.path.append(module_path)\n",
    "\n",
    "# Import the main components from your package\n",
    "from component.model.app_model import AppModel\n",
    "from component.tile.app_controller import AppController\n",
    "\n",
    "# Initialize the Model and Controller\n",
    "# This assumes all necessary backend functions and classes are correctly\n",
    "# defined and imported within app_model.py and app_controller.py\n",
    "try:\n",
    "    print(\"Initializing Sampling Design Tool application...\")\n",
    "    sdt_model = AppModel()\n",
    "    sdt_controller = AppController(model=sdt_model)\n",
    "    print(\"Application initialized successfully.\")\n",
    "\n",
    "    # Display the application's main UI component\n",
    "    # The AppController should have an 'app' attribute (e.g., a v.Card or a sui.Layout)\n",
    "    # that represents the entire UI.\n",
    "    display(sdt_controller.app)\n",
    "\n",
    "except ImportError as e:\n",
    "    print(\n",
    "        f\"ImportError: Could not import necessary components. Please ensure all modules are correctly placed.\"\n",
    "    )\n",
    "    print(f\"Details: {e}\")\n",
    "    import traceback\n",
    "\n",
    "    traceback.print_exc()\n",
    "except Exception as e:\n",
    "    print(f\"An unexpected error occurred during application initialization:\")\n",
    "    print(f\"Details: {e}\")\n",
    "    import traceback\n",
    "\n",
    "    traceback.print_exc()"
   ]
  },
  {
   "cell_type": "code",
   "execution_count": null,
   "id": "4039084a",
   "metadata": {},
   "outputs": [],
   "source": []
  },
  {
   "cell_type": "code",
   "execution_count": null,
   "id": "1331989d",
   "metadata": {},
   "outputs": [],
   "source": []
  }
 ],
 "metadata": {
  "kernelspec": {
   "display_name": "Python 3",
   "language": "python",
   "name": "python3"
  },
  "language_info": {
   "codemirror_mode": {
    "name": "ipython",
    "version": 3
   },
   "file_extension": ".py",
   "mimetype": "text/x-python",
   "name": "python",
   "nbconvert_exporter": "python",
   "pygments_lexer": "ipython3",
   "version": "3.10.12"
  }
 },
 "nbformat": 4,
 "nbformat_minor": 5
}
