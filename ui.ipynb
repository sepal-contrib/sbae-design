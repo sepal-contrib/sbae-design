{
 "cells": [
  {
   "cell_type": "code",
   "execution_count": null,
   "id": "2125f9b8",
   "metadata": {},
   "outputs": [],
   "source": [
    "from component.model.app_model import AppModel\n",
    "from component.tile.app_controller import AppController\n",
    "import logging\n",
    "\n",
    "logger = logging.getLogger(\"sbae\")"
   ]
  },
  {
   "cell_type": "code",
   "execution_count": null,
   "id": "4039084a",
   "metadata": {},
   "outputs": [],
   "source": [
    "logger.debug(\"Importing AppModel and AppController from component modules.\")\n",
    "sdt_model = AppModel()\n",
    "sdt_controller = AppController(model=sdt_model)\n",
    "display(sdt_controller.app)\n",
    "logger.debug(\"AppController initialized and displayed successfully.\")"
   ]
  }
 ],
 "metadata": {
  "kernelspec": {
   "display_name": "Python 3 (ipykernel)",
   "language": "python",
   "name": "python3"
  },
  "language_info": {
   "codemirror_mode": {
    "name": "ipython",
    "version": 3
   },
   "file_extension": ".py",
   "mimetype": "text/x-python",
   "name": "python",
   "nbconvert_exporter": "python",
   "pygments_lexer": "ipython3",
   "version": "3.10.17"
  }
 },
 "nbformat": 4,
 "nbformat_minor": 5
}
