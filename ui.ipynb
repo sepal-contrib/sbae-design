{
 "cells": [
  {
   "cell_type": "code",
   "execution_count": null,
   "id": "8428e41f",
   "metadata": {},
   "outputs": [],
   "source": [
    "from app import Page\n",
    "\n",
    "element = Page()\n",
    "display(element)"
   ]
  }
 ],
 "metadata": {
  "kernelspec": {
   "display_name": " (venv) sbae-design",
   "language": "python",
   "name": "venv-sbae-design"
  },
  "language_info": {
   "name": "python",
   "version": "3.10.17"
  }
 },
 "nbformat": 4,
 "nbformat_minor": 5
}
